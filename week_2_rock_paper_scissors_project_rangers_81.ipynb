{
 "cells": [
  {
   "cell_type": "code",
   "execution_count": 4,
   "id": "d4de27da",
   "metadata": {},
   "outputs": [],
   "source": [
    "# Rock Paper Scissors"
   ]
  },
  {
   "cell_type": "code",
   "execution_count": 2,
   "id": "9f73ded5",
   "metadata": {},
   "outputs": [],
   "source": [
    "# For this project, you and your partner(s) will work to create a program that has a \"player\" and a \"computer\" adversary. The computer should randomly choose its decision based on a list of actions it can take (\"Rock\", \"Paper\" or \"Scissors\"). The player should then have a chance to input their decision. \n",
    "\n",
    "\n",
    "# If player and computer choose the same decision then display (\"Game Tied\"), \n",
    "\n",
    "\n",
    "# If the player chooses \"Rock\" and the computer chooses \"Paper\" display (\"You lose\"), \n",
    "# If the player chooses \"Scissors\" and the computer chooses \"Rock\" display (\"You Lose\")  and \n",
    "# If the player chooses \"Paper\" and the computer chooses \"Scissors\" then display (\"You lose\") \n",
    "# -- Vice versa for other decisions. \n",
    "\n",
    "# Continue to ask the player for their input until they say \"I quit\", at which time the game will then end and display (\"Thank you for playing\").\n",
    "\n",
    "\n",
    "# This project would usually be a pair programming project. However, for the size our class we will have groups of 2-3. This means, that one person(The driver) will code the project while the other people(The navigators)will brainstorm and guide to a working solution.\n",
    "# Each of you should share/switch these roles every 30mins-1hr (-- Or you may elect to switch \"drivers\" after creating specific methods of the class).\n",
    "\n",
    "# The Initial Driver needs to Make sure to:\n",
    "# create a local folder for the project, create a github repository, commit the inital files, share the link\n",
    "\n",
    "# Both navigators should then:\n",
    "# fork the code, clone it and begin.\n",
    "\n",
    "# The current driver MUST share their screen so the navigators can help brainstorm to a working solution.\n",
    "\n",
    "# When code has been updated, you will need to pull down the changes.\n",
    "\n",
    "# Here's an article on doing so -- https://stackoverflow.com/questions/3903817/pull-new-updates-from-original-github-repository-into-forked-github-repository\n",
    "\n",
    "\n",
    "\n",
    "# In this project, you will need to use the random.randint function to enable to computer to make a random decision. Full documentation on the use of this function is attached in a link to this assignment.\n",
    "\n",
    "# Once completed, commit your code to github and submit the link to this assignment\n"
   ]
  },
  {
   "cell_type": "code",
   "execution_count": null,
   "id": "ead53b1a",
   "metadata": {},
   "outputs": [],
   "source": [
    "import chris_vincent_week_2_project \n",
    "\n",
    "rps()"
   ]
  }
 ],
 "metadata": {
  "kernelspec": {
   "display_name": "Python 3 (ipykernel)",
   "language": "python",
   "name": "python3"
  },
  "language_info": {
   "codemirror_mode": {
    "name": "ipython",
    "version": 3
   },
   "file_extension": ".py",
   "mimetype": "text/x-python",
   "name": "python",
   "nbconvert_exporter": "python",
   "pygments_lexer": "ipython3",
   "version": "3.9.7"
  }
 },
 "nbformat": 4,
 "nbformat_minor": 5
}
