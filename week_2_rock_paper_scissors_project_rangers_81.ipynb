{
 "cells": [
  {
   "cell_type": "code",
   "execution_count": null,
   "id": "d4de27da",
   "metadata": {},
   "outputs": [],
   "source": [
    "# Rock Paper Scissors"
   ]
  },
  {
   "cell_type": "code",
   "execution_count": null,
   "id": "9f73ded5",
   "metadata": {},
   "outputs": [],
   "source": [
    "# For this project, you and your partner(s) will work to create a program that has a \"player\" and a \"computer\" adversary. The computer should randomly choose its decision based on a list of actions it can take (\"Rock\", \"Paper\" or \"Scissors\"). The player should then have a chance to input their decision. \n",
    "\n",
    "\n",
    "# If player and computer choose the same decision then display (\"Game Tied\"), \n",
    "\n",
    "\n",
    "# If the player chooses \"Rock\" and the computer chooses \"Paper\" display (\"You lose\"), \n",
    "# If the player chooses \"Scissors\" and the computer chooses \"Rock\" display (\"You Lose\")  and \n",
    "# If the player chooses \"Paper\" and the computer chooses \"Scissors\" then display (\"You lose\") \n",
    "# -- Vice versa for other decisions. \n",
    "\n",
    "# Continue to ask the player for their input until they say \"I quit\", at which time the game will then end and display (\"Thank you for playing\").\n",
    "\n",
    "\n",
    "# This project would usually be a pair programming project. However, for the size our class we will have groups of 2-3. This means, that one person(The driver) will code the project while the other people(The navigators)will brainstorm and guide to a working solution.\n",
    "# Each of you should share/switch these roles every 30mins-1hr (-- Or you may elect to switch \"drivers\" after creating specific methods of the class).\n",
    "\n",
    "# The Initial Driver needs to Make sure to:\n",
    "# create a local folder for the project, create a github repository, commit the inital files, share the link\n",
    "\n",
    "# Both navigators should then:\n",
    "# fork the code, clone it and begin.\n",
    "\n",
    "# The current driver MUST share their screen so the navigators can help brainstorm to a working solution.\n",
    "\n",
    "# When code has been updated, you will need to pull down the changes.\n",
    "\n",
    "# Here's an article on doing so -- https://stackoverflow.com/questions/3903817/pull-new-updates-from-original-github-repository-into-forked-github-repository\n",
    "\n",
    "\n",
    "\n",
    "# In this project, you will need to use the random.randint function to enable to computer to make a random decision. Full documentation on the use of this function is attached in a link to this assignment.\n",
    "\n",
    "# Once completed, commit your code to github and submit the link to this assignment\n"
   ]
  },
  {
   "cell_type": "code",
   "execution_count": 1,
   "id": "ead53b1a",
   "metadata": {},
   "outputs": [
    {
     "name": "stdout",
     "output_type": "stream",
     "text": [
      "What is your name? or 'exit': Vincentt\n",
      "Welcome Vincentt to Rock, Paper, Scissors Python Edition\n",
      "Select one of the following: \n",
      "[Rules]\n",
      "[Play]\n",
      "[Leaderboard]\n",
      "[Quit]\n",
      "rules\n",
      "The rules are simple... select either rock, paper, or scissors\n",
      "and play against the world's best computer.\n",
      "Rock beats Scissors\n",
      "Scissors beats Paper\n",
      "Paper beats Rock\n",
      "Select one of the following: \n",
      "[Rules]\n",
      "[Play]\n",
      "[Leaderboard]\n",
      "[Quit]\n",
      "leaderboard\n",
      "Leaderboard:\n"
     ]
    },
    {
     "ename": "KeyError",
     "evalue": "'vincentt'",
     "output_type": "error",
     "traceback": [
      "\u001b[0;31m---------------------------------------------------------------------------\u001b[0m",
      "\u001b[0;31mKeyError\u001b[0m                                  Traceback (most recent call last)",
      "\u001b[0;32m/var/folders/sx/cp9j2vnd3n93l_cw05f7vlc40000gn/T/ipykernel_73625/3217493770.py\u001b[0m in \u001b[0;36m<module>\u001b[0;34m\u001b[0m\n\u001b[0;32m----> 1\u001b[0;31m \u001b[0;32mimport\u001b[0m \u001b[0mchris_vincent_week_2_project\u001b[0m\u001b[0;34m\u001b[0m\u001b[0;34m\u001b[0m\u001b[0m\n\u001b[0m\u001b[1;32m      2\u001b[0m \u001b[0;34m\u001b[0m\u001b[0m\n\u001b[1;32m      3\u001b[0m \u001b[0mrps\u001b[0m\u001b[0;34m(\u001b[0m\u001b[0;34m)\u001b[0m\u001b[0;34m\u001b[0m\u001b[0;34m\u001b[0m\u001b[0m\n",
      "\u001b[0;32m~/Documents/coding_temple/classes/group_projects/week_2_project/chris_vincent_week_2_project.py\u001b[0m in \u001b[0;36m<module>\u001b[0;34m\u001b[0m\n\u001b[1;32m     82\u001b[0m \u001b[0;34m\u001b[0m\u001b[0m\n\u001b[1;32m     83\u001b[0m \u001b[0;34m\u001b[0m\u001b[0m\n\u001b[0;32m---> 84\u001b[0;31m \u001b[0mrps\u001b[0m\u001b[0;34m(\u001b[0m\u001b[0;34m)\u001b[0m\u001b[0;34m\u001b[0m\u001b[0;34m\u001b[0m\u001b[0m\n\u001b[0m\u001b[1;32m     85\u001b[0m \u001b[0;34m\u001b[0m\u001b[0m\n\u001b[1;32m     86\u001b[0m \u001b[0;34m\u001b[0m\u001b[0m\n",
      "\u001b[0;32m~/Documents/coding_temple/classes/group_projects/week_2_project/chris_vincent_week_2_project.py\u001b[0m in \u001b[0;36mrps\u001b[0;34m()\u001b[0m\n\u001b[1;32m     33\u001b[0m                 \u001b[0mprint\u001b[0m\u001b[0;34m(\u001b[0m\u001b[0;34mf\"Leaderboard:\"\u001b[0m\u001b[0;34m)\u001b[0m\u001b[0;34m\u001b[0m\u001b[0;34m\u001b[0m\u001b[0m\n\u001b[1;32m     34\u001b[0m                 \u001b[0;32mfor\u001b[0m \u001b[0mleader\u001b[0m \u001b[0;32min\u001b[0m \u001b[0mleader_list\u001b[0m\u001b[0;34m:\u001b[0m\u001b[0;34m\u001b[0m\u001b[0;34m\u001b[0m\u001b[0m\n\u001b[0;32m---> 35\u001b[0;31m                     \u001b[0;32mif\u001b[0m \u001b[0;34m(\u001b[0m\u001b[0mplayer_score_dict\u001b[0m\u001b[0;34m[\u001b[0m\u001b[0mleader\u001b[0m\u001b[0;34m]\u001b[0m\u001b[0;34m[\u001b[0m\u001b[0mleader\u001b[0m\u001b[0;34m]\u001b[0m\u001b[0;34m+\u001b[0m\u001b[0mplayer_score_dict\u001b[0m\u001b[0;34m[\u001b[0m\u001b[0mleader\u001b[0m\u001b[0;34m]\u001b[0m\u001b[0;34m[\u001b[0m\u001b[0;34m\"Computer\"\u001b[0m\u001b[0;34m]\u001b[0m\u001b[0;34m)\u001b[0m \u001b[0;34m>=\u001b[0m \u001b[0;36m0\u001b[0m\u001b[0;34m:\u001b[0m\u001b[0;34m\u001b[0m\u001b[0;34m\u001b[0m\u001b[0m\n\u001b[0m\u001b[1;32m     36\u001b[0m                         \u001b[0mplayer_winrate\u001b[0m \u001b[0;34m=\u001b[0m \u001b[0;34m(\u001b[0m\u001b[0mplayer_score_dict\u001b[0m\u001b[0;34m[\u001b[0m\u001b[0mleader\u001b[0m\u001b[0;34m]\u001b[0m\u001b[0;34m[\u001b[0m\u001b[0mleader\u001b[0m\u001b[0;34m]\u001b[0m\u001b[0;34m/\u001b[0m\u001b[0;34m(\u001b[0m\u001b[0;34m(\u001b[0m\u001b[0mplayer_score_dict\u001b[0m\u001b[0;34m[\u001b[0m\u001b[0mleader\u001b[0m\u001b[0;34m]\u001b[0m\u001b[0;34m[\u001b[0m\u001b[0mleader\u001b[0m\u001b[0;34m]\u001b[0m\u001b[0;34m+\u001b[0m\u001b[0mplayer_score_dict\u001b[0m\u001b[0;34m[\u001b[0m\u001b[0mleader\u001b[0m\u001b[0;34m]\u001b[0m\u001b[0;34m[\u001b[0m\u001b[0;34m\"Computer\"\u001b[0m\u001b[0;34m]\u001b[0m\u001b[0;34m)\u001b[0m\u001b[0;34m)\u001b[0m\u001b[0;34m*\u001b[0m\u001b[0;36m100\u001b[0m\u001b[0;34m)\u001b[0m\u001b[0;34m\u001b[0m\u001b[0;34m\u001b[0m\u001b[0m\n\u001b[1;32m     37\u001b[0m                         \u001b[0mprint\u001b[0m\u001b[0;34m(\u001b[0m\u001b[0;34mf\"{leader} : {int(player_winrate)} %\"\u001b[0m\u001b[0;34m)\u001b[0m\u001b[0;34m\u001b[0m\u001b[0;34m\u001b[0m\u001b[0m\n",
      "\u001b[0;31mKeyError\u001b[0m: 'vincentt'"
     ]
    }
   ],
   "source": [
    "import chris_vincent_week_2_project \n",
    "\n",
    "rps()"
   ]
  },
  {
   "cell_type": "code",
   "execution_count": null,
   "id": "8da48dc5",
   "metadata": {},
   "outputs": [],
   "source": []
  }
 ],
 "metadata": {
  "kernelspec": {
   "display_name": "Python 3 (ipykernel)",
   "language": "python",
   "name": "python3"
  },
  "language_info": {
   "codemirror_mode": {
    "name": "ipython",
    "version": 3
   },
   "file_extension": ".py",
   "mimetype": "text/x-python",
   "name": "python",
   "nbconvert_exporter": "python",
   "pygments_lexer": "ipython3",
   "version": "3.9.7"
  }
 },
 "nbformat": 4,
 "nbformat_minor": 5
}
